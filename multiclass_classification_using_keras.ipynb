{
  "nbformat": 4,
  "nbformat_minor": 0,
  "metadata": {
    "colab": {
      "name": "Exercise 4.1  multiclass classification using keras.ipynb",
      "provenance": [],
      "collapsed_sections": []
    },
    "kernelspec": {
      "name": "python3",
      "display_name": "Python 3"
    },
    "accelerator": "GPU"
  },
  "cells": [
    {
      "cell_type": "code",
      "metadata": {
        "colab": {
          "base_uri": "https://localhost:8080/"
        },
        "id": "MkJxDoymwIRd",
        "outputId": "cad4eb81-26ae-40ad-bfdb-704887c88e55"
      },
      "source": [
        "from google.colab import drive\n",
        "drive.mount('/content/gdrive',force_remount=True)"
      ],
      "execution_count": null,
      "outputs": [
        {
          "output_type": "stream",
          "text": [
            "Mounted at /content/gdrive\n"
          ],
          "name": "stdout"
        }
      ]
    },
    {
      "cell_type": "markdown",
      "metadata": {
        "id": "34d2xuI5_3-A"
      },
      "source": [
        "## Load data\n"
      ]
    },
    {
      "cell_type": "code",
      "metadata": {
        "id": "tIy1SLFcwZX3"
      },
      "source": [
        "train = pd.read_csv('/content/gdrive/My Drive/lily/train.csv')\n",
        "test = pd.read_csv('/content/gdrive/My Drive/lily/test.csv')\n",
        "\n",
        "output_map = {'Animal Diseases': 0,\n",
        " 'Bacterial Infections and Mycoses': 3,\n",
        " 'Cardiovascular Diseases': 1,\n",
        " 'Chemically-Induced Disorders': 2,\n",
        " 'Congenital Hereditary and Neonatal Diseases and Abnormalities': 4,\n",
        " 'Digestive System Diseases': 5,\n",
        " 'Disorders of Environmental Origin': 22,\n",
        " 'Endocrine System Diseases': 6,\n",
        " 'Eye Diseases': 7,\n",
        " 'Female Urogenital Diseases and Pregnancy Complications': 8,\n",
        " 'Hemic and Lymphatic Diseases': 9,\n",
        " 'Immune System Diseases': 10,\n",
        " 'Male Urogenital Diseases': 11,\n",
        " 'Musculoskeletal Diseases': 24,\n",
        " 'Neoplasms': 12,\n",
        " 'Nervous System Diseases': 13,\n",
        " 'Nutritional and Metabolic Diseases': 14,\n",
        " 'Occupational Diseases': 15,\n",
        " 'Otorhinolaryngologic Diseases': 16,\n",
        " 'Parasitic Diseases': 17,\n",
        " 'Pathological Conditions and Signs and Symptoms': 18,\n",
        " 'Respiratory Tract Diseases': 19,\n",
        " 'Skin and Connective Tissue Diseases': 25,\n",
        " 'Stomatognathic Diseases': 20,\n",
        " 'Virus Diseases': 21,\n",
        " 'Wounds and Injuries': 23}\n",
        "\n",
        "train['categories'] = train['categories'].map(output_map)\n",
        "test['categories'] = test['categories'].map(output_map)"
      ],
      "execution_count": null,
      "outputs": []
    },
    {
      "cell_type": "code",
      "metadata": {
        "id": "_gyR5CyDwsR1"
      },
      "source": [
        "## import packages\n",
        "import numpy as np \n",
        "import pandas as pd\n",
        "import matplotlib.pyplot as plt\n",
        "import seaborn as sns\n",
        "from keras.preprocessing.text import Tokenizer\n",
        "from keras.preprocessing.sequence import pad_sequences\n",
        "from keras.models import Sequential\n",
        "from keras.layers import Dense, Embedding, LSTM, SpatialDropout1D\n",
        "from sklearn.model_selection import train_test_split\n",
        "from keras.utils.np_utils import to_categorical\n",
        "from keras.callbacks import EarlyStopping\n",
        "from keras.layers import Dropout\n",
        "from keras.utils import np_utils\n",
        "import contractions\n",
        "import re\n",
        "import tqdm\n",
        "import unicodedata"
      ],
      "execution_count": null,
      "outputs": []
    },
    {
      "cell_type": "code",
      "metadata": {
        "colab": {
          "base_uri": "https://localhost:8080/"
        },
        "id": "dVXvUdrQwy69",
        "outputId": "b256c334-3c81-40ef-a993-0fbea1977415"
      },
      "source": [
        "!pip install contractions"
      ],
      "execution_count": null,
      "outputs": [
        {
          "output_type": "stream",
          "text": [
            "Collecting contractions\n",
            "  Downloading https://files.pythonhosted.org/packages/00/92/a05b76a692ac08d470ae5c23873cf1c9a041532f1ee065e74b374f218306/contractions-0.0.25-py2.py3-none-any.whl\n",
            "Collecting textsearch\n",
            "  Downloading https://files.pythonhosted.org/packages/42/a8/03407021f9555043de5492a2bd7a35c56cc03c2510092b5ec018cae1bbf1/textsearch-0.0.17-py2.py3-none-any.whl\n",
            "Collecting Unidecode\n",
            "\u001b[?25l  Downloading https://files.pythonhosted.org/packages/d0/42/d9edfed04228bacea2d824904cae367ee9efd05e6cce7ceaaedd0b0ad964/Unidecode-1.1.1-py2.py3-none-any.whl (238kB)\n",
            "\u001b[K     |████████████████████████████████| 245kB 18.4MB/s \n",
            "\u001b[?25hCollecting pyahocorasick\n",
            "\u001b[?25l  Downloading https://files.pythonhosted.org/packages/f4/9f/f0d8e8850e12829eea2e778f1c90e3c53a9a799b7f412082a5d21cd19ae1/pyahocorasick-1.4.0.tar.gz (312kB)\n",
            "\u001b[K     |████████████████████████████████| 317kB 42.1MB/s \n",
            "\u001b[?25hBuilding wheels for collected packages: pyahocorasick\n",
            "  Building wheel for pyahocorasick (setup.py) ... \u001b[?25l\u001b[?25hdone\n",
            "  Created wheel for pyahocorasick: filename=pyahocorasick-1.4.0-cp36-cp36m-linux_x86_64.whl size=81695 sha256=904135168a7136ab5aa8d9ef4f5b369aef6b80621168a7e28d0dac0aa8d19cf6\n",
            "  Stored in directory: /root/.cache/pip/wheels/0a/90/61/87a55f5b459792fbb2b7ba6b31721b06ff5cf6bde541b40994\n",
            "Successfully built pyahocorasick\n",
            "Installing collected packages: Unidecode, pyahocorasick, textsearch, contractions\n",
            "Successfully installed Unidecode-1.1.1 contractions-0.0.25 pyahocorasick-1.4.0 textsearch-0.0.17\n"
          ],
          "name": "stdout"
        }
      ]
    },
    {
      "cell_type": "markdown",
      "metadata": {
        "id": "UiAM630TAGo9"
      },
      "source": [
        "Basic Text Pre-processing\n",
        "We do minimal text pre-processing here since we are using deep learning models and not count-based methods. Steps include the following:\n",
        "\n",
        "\n",
        "\n",
        "Converting accented characters\n",
        "*   Removal of stop words\n",
        "*   Fixing contractions\n",
        "*   Removing special characters\n",
        "*   Converting accented characters\n",
        "\n",
        "Note : For some models we don't use any pre-processing like BERT!"
      ]
    },
    {
      "cell_type": "code",
      "metadata": {
        "id": "KbkWdShVxBGl"
      },
      "source": [
        "def remove_accented_chars(text):\n",
        "    text = unicodedata.normalize('NFKD', text).encode('ascii', 'ignore').decode('utf-8', 'ignore')\n",
        "    return text\n",
        "\n",
        "def pre_process_corpus(docs):\n",
        "    norm_docs = []\n",
        "    for doc in tqdm.tqdm(docs):\n",
        "        doc = doc.translate(doc.maketrans(\"\\n\\t\\r\", \"   \"))\n",
        "        doc = doc.lower()\n",
        "        doc = remove_accented_chars(doc)\n",
        "        doc = contractions.fix(doc)\n",
        "        # lower case and remove special characters\\whitespaces\n",
        "        doc = re.sub(r'[^a-zA-Z0-9\\s]', ' ', doc, re.I|re.A)\n",
        "        doc = doc.strip()  \n",
        "        norm_docs.append(doc)\n",
        "    return norm_docs"
      ],
      "execution_count": null,
      "outputs": []
    },
    {
      "cell_type": "code",
      "metadata": {
        "colab": {
          "base_uri": "https://localhost:8080/"
        },
        "id": "V-shK4baxDSF",
        "outputId": "dcc8f345-b2bc-4b9c-c0fa-9480ee1b9376"
      },
      "source": [
        "%%time\n",
        "train_content = pre_process_corpus(list(train['abstract']))\n",
        "test_content = pre_process_corpus(list(test['abstract']))"
      ],
      "execution_count": null,
      "outputs": [
        {
          "output_type": "stream",
          "text": [
            "100%|██████████| 43916/43916 [00:08<00:00, 5444.75it/s]\n",
            "100%|██████████| 10862/10862 [00:01<00:00, 5435.49it/s]"
          ],
          "name": "stderr"
        },
        {
          "output_type": "stream",
          "text": [
            "CPU times: user 10 s, sys: 92.1 ms, total: 10.1 s\n",
            "Wall time: 10.1 s\n"
          ],
          "name": "stdout"
        },
        {
          "output_type": "stream",
          "text": [
            "\n"
          ],
          "name": "stderr"
        }
      ]
    },
    {
      "cell_type": "code",
      "metadata": {
        "colab": {
          "base_uri": "https://localhost:8080/"
        },
        "id": "F1O6hicExGLe",
        "outputId": "4156bf13-a4ba-4aa1-e507-07a2c8785907"
      },
      "source": [
        "# The maximum number of words to be used. (most frequent)\n",
        "MAX_NB_WORDS = 50000\n",
        "# Max number of words in each complaint.\n",
        "MAX_SEQUENCE_LENGTH = 250\n",
        "# This is fixed.\n",
        "EMBEDDING_DIM = 100\n",
        "# tokenize the inputs\n",
        "tokenizer = Tokenizer(num_words=MAX_NB_WORDS, filters='!\"#$%&()*+,-./:;<=>?@[\\]^_`{|}~', lower=True)\n",
        "tokenizer.fit_on_texts(train_content)\n",
        "# get the word to index mapping for input language\n",
        "word_index = tokenizer.word_index\n",
        "print('Found %s unique tokens.' % len(word_index))"
      ],
      "execution_count": null,
      "outputs": [
        {
          "output_type": "stream",
          "text": [
            "Found 122083 unique tokens.\n"
          ],
          "name": "stdout"
        }
      ]
    },
    {
      "cell_type": "code",
      "metadata": {
        "colab": {
          "base_uri": "https://localhost:8080/"
        },
        "id": "toxJK6m_xUDk",
        "outputId": "d226907a-a227-406c-9d2e-8b0055ab3cd6"
      },
      "source": [
        "X = tokenizer.texts_to_sequences(train_content)\n",
        "# pad the sequences\n",
        "X = pad_sequences(X, maxlen=MAX_SEQUENCE_LENGTH)\n",
        "print('Shape of data tensor:', X.shape)"
      ],
      "execution_count": null,
      "outputs": [
        {
          "output_type": "stream",
          "text": [
            "Shape of data tensor: (43916, 250)\n"
          ],
          "name": "stdout"
        }
      ]
    },
    {
      "cell_type": "code",
      "metadata": {
        "colab": {
          "base_uri": "https://localhost:8080/"
        },
        "id": "QrAc6KZIxcgt",
        "outputId": "58211aaf-0b48-4629-8637-532d4b20e79b"
      },
      "source": [
        "## one hot encoding of output labels\n",
        "Y  = np_utils.to_categorical(train['categories'])\n",
        "print('Shape of label tensor:', Y.shape)"
      ],
      "execution_count": null,
      "outputs": [
        {
          "output_type": "stream",
          "text": [
            "Shape of label tensor: (43916, 26)\n"
          ],
          "name": "stdout"
        }
      ]
    },
    {
      "cell_type": "code",
      "metadata": {
        "colab": {
          "base_uri": "https://localhost:8080/"
        },
        "id": "6SG8bFK9xoGN",
        "outputId": "42dc94d7-bbf3-49a5-da7c-99ddb62e39b1"
      },
      "source": [
        "## tokenize and pad the test data\n",
        "test_x = tokenizer.texts_to_sequences(test_content)\n",
        "test_x = pad_sequences(test_x, maxlen=MAX_SEQUENCE_LENGTH)\n",
        "print('Shape of data tensor:', test_x.shape)"
      ],
      "execution_count": null,
      "outputs": [
        {
          "output_type": "stream",
          "text": [
            "Shape of data tensor: (10862, 250)\n"
          ],
          "name": "stdout"
        }
      ]
    },
    {
      "cell_type": "code",
      "metadata": {
        "colab": {
          "base_uri": "https://localhost:8080/"
        },
        "id": "27TJqi45yBbV",
        "outputId": "22c44ff1-d15f-4c27-cee0-69b42c4b5b95"
      },
      "source": [
        "test_Y  = np_utils.to_categorical(test['categories'])\n",
        "print('Shape of label tensor:', test_Y.shape)"
      ],
      "execution_count": null,
      "outputs": [
        {
          "output_type": "stream",
          "text": [
            "Shape of label tensor: (10862, 26)\n"
          ],
          "name": "stdout"
        }
      ]
    },
    {
      "cell_type": "code",
      "metadata": {
        "id": "ABFr1lqMyLp1"
      },
      "source": [
        "### save preprocessed data to disk\n",
        "np.save('/content/gdrive/My Drive/lily/keras_train_data.npy',X)\n",
        "np.save('/content/gdrive/My Drive/lily/keras_test_data.npy',test_x)\n",
        "np.save('/content/gdrive/My Drive/lily/keras_train_label.npy',Y)\n",
        "np.save('/content/gdrive/My Drive/lily/keras_test_label.npy',test_Y)"
      ],
      "execution_count": null,
      "outputs": []
    },
    {
      "cell_type": "markdown",
      "metadata": {
        "id": "DwemT2FAzBc2"
      },
      "source": [
        "## Build Model Architecture\n"
      ]
    },
    {
      "cell_type": "code",
      "metadata": {
        "colab": {
          "base_uri": "https://localhost:8080/"
        },
        "id": "W4awDWuTy_bG",
        "outputId": "c8a22183-3da5-4cd0-a64e-eeed682f11da"
      },
      "source": [
        "model = Sequential()\n",
        "model.add(Embedding(MAX_NB_WORDS, EMBEDDING_DIM, input_length=X.shape[1]))\n",
        "model.add(SpatialDropout1D(0.2))\n",
        "model.add(LSTM(100, dropout=0.2, recurrent_dropout=0.2))\n",
        "model.add(Dense(26, activation='softmax'))\n",
        "model.compile(loss='categorical_crossentropy', optimizer='adam', metrics=['accuracy'])\n",
        "print(model.summary())"
      ],
      "execution_count": null,
      "outputs": [
        {
          "output_type": "stream",
          "text": [
            "WARNING:tensorflow:Layer lstm will not use cuDNN kernel since it doesn't meet the cuDNN kernel criteria. It will use generic GPU kernel as fallback when running on GPU\n",
            "Model: \"sequential\"\n",
            "_________________________________________________________________\n",
            "Layer (type)                 Output Shape              Param #   \n",
            "=================================================================\n",
            "embedding (Embedding)        (None, 250, 100)          5000000   \n",
            "_________________________________________________________________\n",
            "spatial_dropout1d (SpatialDr (None, 250, 100)          0         \n",
            "_________________________________________________________________\n",
            "lstm (LSTM)                  (None, 100)               80400     \n",
            "_________________________________________________________________\n",
            "dense (Dense)                (None, 26)                2626      \n",
            "=================================================================\n",
            "Total params: 5,083,026\n",
            "Trainable params: 5,083,026\n",
            "Non-trainable params: 0\n",
            "_________________________________________________________________\n",
            "None\n"
          ],
          "name": "stdout"
        }
      ]
    },
    {
      "cell_type": "code",
      "metadata": {
        "colab": {
          "base_uri": "https://localhost:8080/",
          "height": 1000
        },
        "id": "bv90OAiIzLhG",
        "outputId": "017c879e-7da4-47fb-f035-c7b6bf9490bd"
      },
      "source": [
        "### training\n",
        "epochs = 100\n",
        "batch_size = 64\n",
        "history = model.fit(X, Y, epochs=epochs, batch_size=batch_size,validation_data=(test_x, test_Y))"
      ],
      "execution_count": null,
      "outputs": [
        {
          "output_type": "stream",
          "text": [
            "Epoch 1/100\n",
            "687/687 [==============================] - 648s 944ms/step - loss: 2.6731 - accuracy: 0.2161 - val_loss: 2.2497 - val_accuracy: 0.3723\n",
            "Epoch 2/100\n",
            "687/687 [==============================] - 642s 934ms/step - loss: 1.8787 - accuracy: 0.4919 - val_loss: 1.7103 - val_accuracy: 0.5526\n",
            "Epoch 3/100\n",
            "687/687 [==============================] - 637s 928ms/step - loss: 1.4203 - accuracy: 0.6172 - val_loss: 1.6132 - val_accuracy: 0.5943\n",
            "Epoch 4/100\n",
            "687/687 [==============================] - 645s 938ms/step - loss: 1.1533 - accuracy: 0.6990 - val_loss: 1.4978 - val_accuracy: 0.6279\n",
            "Epoch 5/100\n",
            "687/687 [==============================] - 682s 993ms/step - loss: 0.9363 - accuracy: 0.7547 - val_loss: 1.4734 - val_accuracy: 0.6375\n",
            "Epoch 6/100\n",
            "687/687 [==============================] - 685s 997ms/step - loss: 0.7768 - accuracy: 0.7971 - val_loss: 1.3972 - val_accuracy: 0.6653\n",
            "Epoch 7/100\n",
            "687/687 [==============================] - 682s 992ms/step - loss: 0.6209 - accuracy: 0.8378 - val_loss: 1.4659 - val_accuracy: 0.6659\n",
            "Epoch 8/100\n",
            "687/687 [==============================] - 641s 933ms/step - loss: 0.4778 - accuracy: 0.8766 - val_loss: 1.4460 - val_accuracy: 0.6843\n",
            "Epoch 9/100\n",
            "687/687 [==============================] - 636s 926ms/step - loss: 0.3899 - accuracy: 0.8982 - val_loss: 1.5505 - val_accuracy: 0.6748\n",
            "Epoch 10/100\n",
            "687/687 [==============================] - 636s 926ms/step - loss: 0.3471 - accuracy: 0.9095 - val_loss: 1.5857 - val_accuracy: 0.6804\n",
            "Epoch 11/100\n",
            "687/687 [==============================] - 643s 936ms/step - loss: 0.2688 - accuracy: 0.9308 - val_loss: 1.6122 - val_accuracy: 0.6816\n",
            "Epoch 12/100\n",
            "687/687 [==============================] - 637s 928ms/step - loss: 0.1962 - accuracy: 0.9503 - val_loss: 1.7208 - val_accuracy: 0.6801\n",
            "Epoch 13/100\n",
            "687/687 [==============================] - 646s 940ms/step - loss: 0.1569 - accuracy: 0.9605 - val_loss: 1.7567 - val_accuracy: 0.6814\n",
            "Epoch 14/100\n",
            "687/687 [==============================] - 672s 978ms/step - loss: 0.1213 - accuracy: 0.9694 - val_loss: 1.8104 - val_accuracy: 0.6851\n",
            "Epoch 15/100\n",
            "687/687 [==============================] - 660s 961ms/step - loss: 0.1067 - accuracy: 0.9724 - val_loss: 1.8926 - val_accuracy: 0.6739\n",
            "Epoch 16/100\n",
            "687/687 [==============================] - 654s 952ms/step - loss: 0.0795 - accuracy: 0.9794 - val_loss: 1.9193 - val_accuracy: 0.6681\n",
            "Epoch 17/100\n",
            "687/687 [==============================] - 653s 951ms/step - loss: 0.0642 - accuracy: 0.9837 - val_loss: 1.9881 - val_accuracy: 0.6838\n",
            "Epoch 18/100\n",
            "687/687 [==============================] - 654s 952ms/step - loss: 0.0521 - accuracy: 0.9860 - val_loss: 2.0339 - val_accuracy: 0.6869\n",
            "Epoch 19/100\n",
            "687/687 [==============================] - 665s 968ms/step - loss: 0.0447 - accuracy: 0.9880 - val_loss: 2.1194 - val_accuracy: 0.6791\n",
            "Epoch 20/100\n",
            "687/687 [==============================] - 665s 968ms/step - loss: 0.0335 - accuracy: 0.9913 - val_loss: 2.1868 - val_accuracy: 0.6803\n",
            "Epoch 21/100\n",
            "687/687 [==============================] - 656s 956ms/step - loss: 0.0316 - accuracy: 0.9918 - val_loss: 2.2110 - val_accuracy: 0.6874\n",
            "Epoch 22/100\n",
            "687/687 [==============================] - 647s 942ms/step - loss: 0.0241 - accuracy: 0.9937 - val_loss: 2.2708 - val_accuracy: 0.6871\n",
            "Epoch 23/100\n",
            "687/687 [==============================] - 650s 946ms/step - loss: 0.0235 - accuracy: 0.9939 - val_loss: 2.3474 - val_accuracy: 0.6831\n",
            "Epoch 24/100\n",
            "687/687 [==============================] - 656s 955ms/step - loss: 0.0196 - accuracy: 0.9948 - val_loss: 2.2990 - val_accuracy: 0.6845\n",
            "Epoch 25/100\n",
            "687/687 [==============================] - 678s 987ms/step - loss: 0.0182 - accuracy: 0.9952 - val_loss: 2.3778 - val_accuracy: 0.6862\n",
            "Epoch 26/100\n",
            "687/687 [==============================] - 670s 975ms/step - loss: 0.0146 - accuracy: 0.9962 - val_loss: 2.4080 - val_accuracy: 0.6840\n",
            "Epoch 27/100\n",
            "687/687 [==============================] - 639s 930ms/step - loss: 0.0140 - accuracy: 0.9964 - val_loss: 2.3814 - val_accuracy: 0.6778\n",
            "Epoch 28/100\n",
            "687/687 [==============================] - 636s 926ms/step - loss: 0.0146 - accuracy: 0.9961 - val_loss: 2.4024 - val_accuracy: 0.6845\n",
            "Epoch 29/100\n",
            "687/687 [==============================] - 674s 981ms/step - loss: 0.0103 - accuracy: 0.9973 - val_loss: 2.4433 - val_accuracy: 0.6866\n",
            "Epoch 30/100\n",
            "687/687 [==============================] - 647s 941ms/step - loss: 0.0109 - accuracy: 0.9972 - val_loss: 2.5014 - val_accuracy: 0.6883\n",
            "Epoch 31/100\n",
            "687/687 [==============================] - 630s 917ms/step - loss: 0.0073 - accuracy: 0.9981 - val_loss: 2.5494 - val_accuracy: 0.6783\n",
            "Epoch 32/100\n",
            "687/687 [==============================] - 630s 917ms/step - loss: 0.0087 - accuracy: 0.9978 - val_loss: 2.5329 - val_accuracy: 0.6865\n",
            "Epoch 33/100\n",
            "687/687 [==============================] - 632s 920ms/step - loss: 0.0103 - accuracy: 0.9970 - val_loss: 2.5218 - val_accuracy: 0.6784\n",
            "Epoch 34/100\n",
            "687/687 [==============================] - 624s 908ms/step - loss: 0.0075 - accuracy: 0.9982 - val_loss: 2.6299 - val_accuracy: 0.6818\n",
            "Epoch 35/100\n",
            "687/687 [==============================] - 629s 916ms/step - loss: 0.0066 - accuracy: 0.9981 - val_loss: 2.6593 - val_accuracy: 0.6872\n",
            "Epoch 36/100\n",
            "687/687 [==============================] - 629s 916ms/step - loss: 0.0061 - accuracy: 0.9985 - val_loss: 2.6940 - val_accuracy: 0.6726\n",
            "Epoch 37/100\n",
            "687/687 [==============================] - 627s 912ms/step - loss: 0.0046 - accuracy: 0.9987 - val_loss: 2.6963 - val_accuracy: 0.6900\n",
            "Epoch 38/100\n",
            "687/687 [==============================] - 630s 917ms/step - loss: 0.0051 - accuracy: 0.9989 - val_loss: 2.6884 - val_accuracy: 0.6809\n",
            "Epoch 39/100\n",
            "687/687 [==============================] - 623s 907ms/step - loss: 0.0054 - accuracy: 0.9987 - val_loss: 2.7415 - val_accuracy: 0.6824\n",
            "Epoch 40/100\n",
            "687/687 [==============================] - 625s 910ms/step - loss: 0.0056 - accuracy: 0.9987 - val_loss: 2.7572 - val_accuracy: 0.6815\n",
            "Epoch 41/100\n",
            "687/687 [==============================] - 623s 907ms/step - loss: 0.0044 - accuracy: 0.9988 - val_loss: 2.7697 - val_accuracy: 0.6878\n",
            "Epoch 42/100\n",
            "444/687 [==================>...........] - ETA: 3:38 - loss: 0.0046 - accuracy: 0.9986"
          ],
          "name": "stdout"
        },
        {
          "output_type": "error",
          "ename": "KeyboardInterrupt",
          "evalue": "ignored",
          "traceback": [
            "\u001b[0;31m---------------------------------------------------------------------------\u001b[0m",
            "\u001b[0;31mKeyboardInterrupt\u001b[0m                         Traceback (most recent call last)",
            "\u001b[0;32m<ipython-input-19-47bb6b6c4af9>\u001b[0m in \u001b[0;36m<module>\u001b[0;34m()\u001b[0m\n\u001b[1;32m      3\u001b[0m \u001b[0mbatch_size\u001b[0m \u001b[0;34m=\u001b[0m \u001b[0;36m64\u001b[0m\u001b[0;34m\u001b[0m\u001b[0;34m\u001b[0m\u001b[0m\n\u001b[1;32m      4\u001b[0m \u001b[0;34m\u001b[0m\u001b[0m\n\u001b[0;32m----> 5\u001b[0;31m \u001b[0mhistory\u001b[0m \u001b[0;34m=\u001b[0m \u001b[0mmodel\u001b[0m\u001b[0;34m.\u001b[0m\u001b[0mfit\u001b[0m\u001b[0;34m(\u001b[0m\u001b[0mX\u001b[0m\u001b[0;34m,\u001b[0m \u001b[0mY\u001b[0m\u001b[0;34m,\u001b[0m \u001b[0mepochs\u001b[0m\u001b[0;34m=\u001b[0m\u001b[0mepochs\u001b[0m\u001b[0;34m,\u001b[0m \u001b[0mbatch_size\u001b[0m\u001b[0;34m=\u001b[0m\u001b[0mbatch_size\u001b[0m\u001b[0;34m,\u001b[0m\u001b[0mvalidation_data\u001b[0m\u001b[0;34m=\u001b[0m\u001b[0;34m(\u001b[0m\u001b[0mtest_x\u001b[0m\u001b[0;34m,\u001b[0m \u001b[0mtest_Y\u001b[0m\u001b[0;34m)\u001b[0m\u001b[0;34m)\u001b[0m\u001b[0;34m\u001b[0m\u001b[0;34m\u001b[0m\u001b[0m\n\u001b[0m",
            "\u001b[0;32m/usr/local/lib/python3.6/dist-packages/tensorflow/python/keras/engine/training.py\u001b[0m in \u001b[0;36m_method_wrapper\u001b[0;34m(self, *args, **kwargs)\u001b[0m\n\u001b[1;32m    106\u001b[0m   \u001b[0;32mdef\u001b[0m \u001b[0m_method_wrapper\u001b[0m\u001b[0;34m(\u001b[0m\u001b[0mself\u001b[0m\u001b[0;34m,\u001b[0m \u001b[0;34m*\u001b[0m\u001b[0margs\u001b[0m\u001b[0;34m,\u001b[0m \u001b[0;34m**\u001b[0m\u001b[0mkwargs\u001b[0m\u001b[0;34m)\u001b[0m\u001b[0;34m:\u001b[0m\u001b[0;34m\u001b[0m\u001b[0;34m\u001b[0m\u001b[0m\n\u001b[1;32m    107\u001b[0m     \u001b[0;32mif\u001b[0m \u001b[0;32mnot\u001b[0m \u001b[0mself\u001b[0m\u001b[0;34m.\u001b[0m\u001b[0m_in_multi_worker_mode\u001b[0m\u001b[0;34m(\u001b[0m\u001b[0;34m)\u001b[0m\u001b[0;34m:\u001b[0m  \u001b[0;31m# pylint: disable=protected-access\u001b[0m\u001b[0;34m\u001b[0m\u001b[0;34m\u001b[0m\u001b[0m\n\u001b[0;32m--> 108\u001b[0;31m       \u001b[0;32mreturn\u001b[0m \u001b[0mmethod\u001b[0m\u001b[0;34m(\u001b[0m\u001b[0mself\u001b[0m\u001b[0;34m,\u001b[0m \u001b[0;34m*\u001b[0m\u001b[0margs\u001b[0m\u001b[0;34m,\u001b[0m \u001b[0;34m**\u001b[0m\u001b[0mkwargs\u001b[0m\u001b[0;34m)\u001b[0m\u001b[0;34m\u001b[0m\u001b[0;34m\u001b[0m\u001b[0m\n\u001b[0m\u001b[1;32m    109\u001b[0m \u001b[0;34m\u001b[0m\u001b[0m\n\u001b[1;32m    110\u001b[0m     \u001b[0;31m# Running inside `run_distribute_coordinator` already.\u001b[0m\u001b[0;34m\u001b[0m\u001b[0;34m\u001b[0m\u001b[0;34m\u001b[0m\u001b[0m\n",
            "\u001b[0;32m/usr/local/lib/python3.6/dist-packages/tensorflow/python/keras/engine/training.py\u001b[0m in \u001b[0;36mfit\u001b[0;34m(self, x, y, batch_size, epochs, verbose, callbacks, validation_split, validation_data, shuffle, class_weight, sample_weight, initial_epoch, steps_per_epoch, validation_steps, validation_batch_size, validation_freq, max_queue_size, workers, use_multiprocessing)\u001b[0m\n\u001b[1;32m   1096\u001b[0m                 batch_size=batch_size):\n\u001b[1;32m   1097\u001b[0m               \u001b[0mcallbacks\u001b[0m\u001b[0;34m.\u001b[0m\u001b[0mon_train_batch_begin\u001b[0m\u001b[0;34m(\u001b[0m\u001b[0mstep\u001b[0m\u001b[0;34m)\u001b[0m\u001b[0;34m\u001b[0m\u001b[0;34m\u001b[0m\u001b[0m\n\u001b[0;32m-> 1098\u001b[0;31m               \u001b[0mtmp_logs\u001b[0m \u001b[0;34m=\u001b[0m \u001b[0mtrain_function\u001b[0m\u001b[0;34m(\u001b[0m\u001b[0miterator\u001b[0m\u001b[0;34m)\u001b[0m\u001b[0;34m\u001b[0m\u001b[0;34m\u001b[0m\u001b[0m\n\u001b[0m\u001b[1;32m   1099\u001b[0m               \u001b[0;32mif\u001b[0m \u001b[0mdata_handler\u001b[0m\u001b[0;34m.\u001b[0m\u001b[0mshould_sync\u001b[0m\u001b[0;34m:\u001b[0m\u001b[0;34m\u001b[0m\u001b[0;34m\u001b[0m\u001b[0m\n\u001b[1;32m   1100\u001b[0m                 \u001b[0mcontext\u001b[0m\u001b[0;34m.\u001b[0m\u001b[0masync_wait\u001b[0m\u001b[0;34m(\u001b[0m\u001b[0;34m)\u001b[0m\u001b[0;34m\u001b[0m\u001b[0;34m\u001b[0m\u001b[0m\n",
            "\u001b[0;32m/usr/local/lib/python3.6/dist-packages/tensorflow/python/eager/def_function.py\u001b[0m in \u001b[0;36m__call__\u001b[0;34m(self, *args, **kwds)\u001b[0m\n\u001b[1;32m    778\u001b[0m       \u001b[0;32melse\u001b[0m\u001b[0;34m:\u001b[0m\u001b[0;34m\u001b[0m\u001b[0;34m\u001b[0m\u001b[0m\n\u001b[1;32m    779\u001b[0m         \u001b[0mcompiler\u001b[0m \u001b[0;34m=\u001b[0m \u001b[0;34m\"nonXla\"\u001b[0m\u001b[0;34m\u001b[0m\u001b[0;34m\u001b[0m\u001b[0m\n\u001b[0;32m--> 780\u001b[0;31m         \u001b[0mresult\u001b[0m \u001b[0;34m=\u001b[0m \u001b[0mself\u001b[0m\u001b[0;34m.\u001b[0m\u001b[0m_call\u001b[0m\u001b[0;34m(\u001b[0m\u001b[0;34m*\u001b[0m\u001b[0margs\u001b[0m\u001b[0;34m,\u001b[0m \u001b[0;34m**\u001b[0m\u001b[0mkwds\u001b[0m\u001b[0;34m)\u001b[0m\u001b[0;34m\u001b[0m\u001b[0;34m\u001b[0m\u001b[0m\n\u001b[0m\u001b[1;32m    781\u001b[0m \u001b[0;34m\u001b[0m\u001b[0m\n\u001b[1;32m    782\u001b[0m       \u001b[0mnew_tracing_count\u001b[0m \u001b[0;34m=\u001b[0m \u001b[0mself\u001b[0m\u001b[0;34m.\u001b[0m\u001b[0m_get_tracing_count\u001b[0m\u001b[0;34m(\u001b[0m\u001b[0;34m)\u001b[0m\u001b[0;34m\u001b[0m\u001b[0;34m\u001b[0m\u001b[0m\n",
            "\u001b[0;32m/usr/local/lib/python3.6/dist-packages/tensorflow/python/eager/def_function.py\u001b[0m in \u001b[0;36m_call\u001b[0;34m(self, *args, **kwds)\u001b[0m\n\u001b[1;32m    805\u001b[0m       \u001b[0;31m# In this case we have created variables on the first call, so we run the\u001b[0m\u001b[0;34m\u001b[0m\u001b[0;34m\u001b[0m\u001b[0;34m\u001b[0m\u001b[0m\n\u001b[1;32m    806\u001b[0m       \u001b[0;31m# defunned version which is guaranteed to never create variables.\u001b[0m\u001b[0;34m\u001b[0m\u001b[0;34m\u001b[0m\u001b[0;34m\u001b[0m\u001b[0m\n\u001b[0;32m--> 807\u001b[0;31m       \u001b[0;32mreturn\u001b[0m \u001b[0mself\u001b[0m\u001b[0;34m.\u001b[0m\u001b[0m_stateless_fn\u001b[0m\u001b[0;34m(\u001b[0m\u001b[0;34m*\u001b[0m\u001b[0margs\u001b[0m\u001b[0;34m,\u001b[0m \u001b[0;34m**\u001b[0m\u001b[0mkwds\u001b[0m\u001b[0;34m)\u001b[0m  \u001b[0;31m# pylint: disable=not-callable\u001b[0m\u001b[0;34m\u001b[0m\u001b[0;34m\u001b[0m\u001b[0m\n\u001b[0m\u001b[1;32m    808\u001b[0m     \u001b[0;32melif\u001b[0m \u001b[0mself\u001b[0m\u001b[0;34m.\u001b[0m\u001b[0m_stateful_fn\u001b[0m \u001b[0;32mis\u001b[0m \u001b[0;32mnot\u001b[0m \u001b[0;32mNone\u001b[0m\u001b[0;34m:\u001b[0m\u001b[0;34m\u001b[0m\u001b[0;34m\u001b[0m\u001b[0m\n\u001b[1;32m    809\u001b[0m       \u001b[0;31m# Release the lock early so that multiple threads can perform the call\u001b[0m\u001b[0;34m\u001b[0m\u001b[0;34m\u001b[0m\u001b[0;34m\u001b[0m\u001b[0m\n",
            "\u001b[0;32m/usr/local/lib/python3.6/dist-packages/tensorflow/python/eager/function.py\u001b[0m in \u001b[0;36m__call__\u001b[0;34m(self, *args, **kwargs)\u001b[0m\n\u001b[1;32m   2827\u001b[0m     \u001b[0;32mwith\u001b[0m \u001b[0mself\u001b[0m\u001b[0;34m.\u001b[0m\u001b[0m_lock\u001b[0m\u001b[0;34m:\u001b[0m\u001b[0;34m\u001b[0m\u001b[0;34m\u001b[0m\u001b[0m\n\u001b[1;32m   2828\u001b[0m       \u001b[0mgraph_function\u001b[0m\u001b[0;34m,\u001b[0m \u001b[0margs\u001b[0m\u001b[0;34m,\u001b[0m \u001b[0mkwargs\u001b[0m \u001b[0;34m=\u001b[0m \u001b[0mself\u001b[0m\u001b[0;34m.\u001b[0m\u001b[0m_maybe_define_function\u001b[0m\u001b[0;34m(\u001b[0m\u001b[0margs\u001b[0m\u001b[0;34m,\u001b[0m \u001b[0mkwargs\u001b[0m\u001b[0;34m)\u001b[0m\u001b[0;34m\u001b[0m\u001b[0;34m\u001b[0m\u001b[0m\n\u001b[0;32m-> 2829\u001b[0;31m     \u001b[0;32mreturn\u001b[0m \u001b[0mgraph_function\u001b[0m\u001b[0;34m.\u001b[0m\u001b[0m_filtered_call\u001b[0m\u001b[0;34m(\u001b[0m\u001b[0margs\u001b[0m\u001b[0;34m,\u001b[0m \u001b[0mkwargs\u001b[0m\u001b[0;34m)\u001b[0m  \u001b[0;31m# pylint: disable=protected-access\u001b[0m\u001b[0;34m\u001b[0m\u001b[0;34m\u001b[0m\u001b[0m\n\u001b[0m\u001b[1;32m   2830\u001b[0m \u001b[0;34m\u001b[0m\u001b[0m\n\u001b[1;32m   2831\u001b[0m   \u001b[0;34m@\u001b[0m\u001b[0mproperty\u001b[0m\u001b[0;34m\u001b[0m\u001b[0;34m\u001b[0m\u001b[0m\n",
            "\u001b[0;32m/usr/local/lib/python3.6/dist-packages/tensorflow/python/eager/function.py\u001b[0m in \u001b[0;36m_filtered_call\u001b[0;34m(self, args, kwargs, cancellation_manager)\u001b[0m\n\u001b[1;32m   1846\u001b[0m                            resource_variable_ops.BaseResourceVariable))],\n\u001b[1;32m   1847\u001b[0m         \u001b[0mcaptured_inputs\u001b[0m\u001b[0;34m=\u001b[0m\u001b[0mself\u001b[0m\u001b[0;34m.\u001b[0m\u001b[0mcaptured_inputs\u001b[0m\u001b[0;34m,\u001b[0m\u001b[0;34m\u001b[0m\u001b[0;34m\u001b[0m\u001b[0m\n\u001b[0;32m-> 1848\u001b[0;31m         cancellation_manager=cancellation_manager)\n\u001b[0m\u001b[1;32m   1849\u001b[0m \u001b[0;34m\u001b[0m\u001b[0m\n\u001b[1;32m   1850\u001b[0m   \u001b[0;32mdef\u001b[0m \u001b[0m_call_flat\u001b[0m\u001b[0;34m(\u001b[0m\u001b[0mself\u001b[0m\u001b[0;34m,\u001b[0m \u001b[0margs\u001b[0m\u001b[0;34m,\u001b[0m \u001b[0mcaptured_inputs\u001b[0m\u001b[0;34m,\u001b[0m \u001b[0mcancellation_manager\u001b[0m\u001b[0;34m=\u001b[0m\u001b[0;32mNone\u001b[0m\u001b[0;34m)\u001b[0m\u001b[0;34m:\u001b[0m\u001b[0;34m\u001b[0m\u001b[0;34m\u001b[0m\u001b[0m\n",
            "\u001b[0;32m/usr/local/lib/python3.6/dist-packages/tensorflow/python/eager/function.py\u001b[0m in \u001b[0;36m_call_flat\u001b[0;34m(self, args, captured_inputs, cancellation_manager)\u001b[0m\n\u001b[1;32m   1922\u001b[0m       \u001b[0;31m# No tape is watching; skip to running the function.\u001b[0m\u001b[0;34m\u001b[0m\u001b[0;34m\u001b[0m\u001b[0;34m\u001b[0m\u001b[0m\n\u001b[1;32m   1923\u001b[0m       return self._build_call_outputs(self._inference_function.call(\n\u001b[0;32m-> 1924\u001b[0;31m           ctx, args, cancellation_manager=cancellation_manager))\n\u001b[0m\u001b[1;32m   1925\u001b[0m     forward_backward = self._select_forward_and_backward_functions(\n\u001b[1;32m   1926\u001b[0m         \u001b[0margs\u001b[0m\u001b[0;34m,\u001b[0m\u001b[0;34m\u001b[0m\u001b[0;34m\u001b[0m\u001b[0m\n",
            "\u001b[0;32m/usr/local/lib/python3.6/dist-packages/tensorflow/python/eager/function.py\u001b[0m in \u001b[0;36mcall\u001b[0;34m(self, ctx, args, cancellation_manager)\u001b[0m\n\u001b[1;32m    548\u001b[0m               \u001b[0minputs\u001b[0m\u001b[0;34m=\u001b[0m\u001b[0margs\u001b[0m\u001b[0;34m,\u001b[0m\u001b[0;34m\u001b[0m\u001b[0;34m\u001b[0m\u001b[0m\n\u001b[1;32m    549\u001b[0m               \u001b[0mattrs\u001b[0m\u001b[0;34m=\u001b[0m\u001b[0mattrs\u001b[0m\u001b[0;34m,\u001b[0m\u001b[0;34m\u001b[0m\u001b[0;34m\u001b[0m\u001b[0m\n\u001b[0;32m--> 550\u001b[0;31m               ctx=ctx)\n\u001b[0m\u001b[1;32m    551\u001b[0m         \u001b[0;32melse\u001b[0m\u001b[0;34m:\u001b[0m\u001b[0;34m\u001b[0m\u001b[0;34m\u001b[0m\u001b[0m\n\u001b[1;32m    552\u001b[0m           outputs = execute.execute_with_cancellation(\n",
            "\u001b[0;32m/usr/local/lib/python3.6/dist-packages/tensorflow/python/eager/execute.py\u001b[0m in \u001b[0;36mquick_execute\u001b[0;34m(op_name, num_outputs, inputs, attrs, ctx, name)\u001b[0m\n\u001b[1;32m     58\u001b[0m     \u001b[0mctx\u001b[0m\u001b[0;34m.\u001b[0m\u001b[0mensure_initialized\u001b[0m\u001b[0;34m(\u001b[0m\u001b[0;34m)\u001b[0m\u001b[0;34m\u001b[0m\u001b[0;34m\u001b[0m\u001b[0m\n\u001b[1;32m     59\u001b[0m     tensors = pywrap_tfe.TFE_Py_Execute(ctx._handle, device_name, op_name,\n\u001b[0;32m---> 60\u001b[0;31m                                         inputs, attrs, num_outputs)\n\u001b[0m\u001b[1;32m     61\u001b[0m   \u001b[0;32mexcept\u001b[0m \u001b[0mcore\u001b[0m\u001b[0;34m.\u001b[0m\u001b[0m_NotOkStatusException\u001b[0m \u001b[0;32mas\u001b[0m \u001b[0me\u001b[0m\u001b[0;34m:\u001b[0m\u001b[0;34m\u001b[0m\u001b[0;34m\u001b[0m\u001b[0m\n\u001b[1;32m     62\u001b[0m     \u001b[0;32mif\u001b[0m \u001b[0mname\u001b[0m \u001b[0;32mis\u001b[0m \u001b[0;32mnot\u001b[0m \u001b[0;32mNone\u001b[0m\u001b[0;34m:\u001b[0m\u001b[0;34m\u001b[0m\u001b[0;34m\u001b[0m\u001b[0m\n",
            "\u001b[0;31mKeyboardInterrupt\u001b[0m: "
          ]
        }
      ]
    },
    {
      "cell_type": "code",
      "metadata": {
        "id": "MpzOcQ7Las2B"
      },
      "source": [
        "## save the model\n",
        "model.save('/content/gdrive/My Drive/lily/keras_model.h5')"
      ],
      "execution_count": null,
      "outputs": []
    }
  ]
}